{
 "cells": [
  {
   "cell_type": "markdown",
   "metadata": {},
   "source": [
    "# 6.1"
   ]
  },
  {
   "cell_type": "markdown",
   "metadata": {},
   "source": [
    "Напомним, что в наивном байесовском классификаторе класс определяется по следующей формуле:\n",
    "$\\DeclareMathOperator*{\\argmax}{argmax}$\n",
    "$$ y(x) = \\argmax_{y} p(y) \\prod_{k=1}^{n} P(x^{(k)} | y) $$"
   ]
  },
  {
   "cell_type": "markdown",
   "metadata": {},
   "source": [
    "Так как $ p(y) = const $ и $ P(x^{(k)} | y ) = \\frac{1}{\\sqrt{2 \\pi \\sigma^2}} e^{-\\frac{(x^{(k)} - \\mu_{yk})^2}{2 \\sigma^2}} $, то\n",
    "$\\DeclareMathOperator*{\\argmin}{argmin}$\n",
    "$$ y(x) = \\argmax_y e^{-\\frac{1}{2 \\sigma^2} \\sum_{k=1}^n (x^{(k)} - \\mu_{yk})^2}\n",
    "        = \\argmin_y \\sum_{k=1}^n (x^{(k)} - \\mu_{yk})^2\n",
    "        = \\argmin_y \\sqrt{\\sum_{k=1}^n (x^{(k)} - \\mu_{yk})^2}\n",
    "        = \\argmin_y || x - \\mu_y || $$"
   ]
  },
  {
   "cell_type": "markdown",
   "metadata": {},
   "source": [
    "Утверждение доказано."
   ]
  },
  {
   "cell_type": "markdown",
   "metadata": {},
   "source": [
    "# 6.2"
   ]
  },
  {
   "cell_type": "markdown",
   "metadata": {},
   "source": [
    "Заметим, что треугольный ROC-AUC равен $0.5$, если для нашего классификатора $ \\frac{TPR}{FPR} = 1 $. \n",
    "\n",
    "Согласно условию, классификатор $a(x)=1$ с вероятностью $p$. Пусть доля $1$ в выборке равна $q$."
   ]
  },
  {
   "cell_type": "markdown",
   "metadata": {},
   "source": [
    "Тогда, очевидны следующие равенства: $ TP = p q $, $ TP + FN = q $, $ FP = p (1 - q) $, $ FP + TN = 1 - q $"
   ]
  },
  {
   "cell_type": "markdown",
   "metadata": {},
   "source": [
    "Из того, что $ TPR = \\frac{TP}{TP + FN} $, $ FPR = \\frac{FP}{FP + TN} $ следует, что \n",
    "$ \\frac{TPR}{FPR} = \\frac{TP(FP + TN)}{(TP + FN)FP} = \\frac{pq(1 - q)}{qp(1 - q)} = 1 $."
   ]
  },
  {
   "cell_type": "markdown",
   "metadata": {},
   "source": [
    "Утверждение доказано."
   ]
  },
  {
   "cell_type": "markdown",
   "metadata": {},
   "source": [
    "# 6.3"
   ]
  },
  {
   "cell_type": "markdown",
   "metadata": {},
   "source": [
    "$ E_B = \\min \\{ P(1 | x), P(0 | x) \\} $"
   ]
  },
  {
   "cell_type": "markdown",
   "metadata": {},
   "source": [
    "$ E_N = P(y \\neq y_n) $"
   ]
  },
  {
   "cell_type": "markdown",
   "metadata": {},
   "source": [
    "Надо доказать, что $ E_N \\geq \\frac{1}{2} E_B $."
   ]
  },
  {
   "cell_type": "markdown",
   "metadata": {},
   "source": [
    "Заметим, что:\n",
    "1. $ E_B \\leq \\frac{1}{2} $ (так как $ P(1 | x) + P(0 | x) = 1 $), и, следовательно, $ 1 - E_B \\geq \\frac{1}{2} $\n",
    "2. $ P(c | x_n) \\xrightarrow[|| x_n - x || \\to 0]{} P(c | x) $"
   ]
  },
  {
   "cell_type": "markdown",
   "metadata": {},
   "source": [
    "$ E_N = P(y \\neq y_n)\n",
    "      = P(y = 0) P(0 | x) P(1 | x_n) + P(y = 1) P(1 | x) P(0 | x_n)\n",
    "      \\xrightarrow[ || x_n -x || \\to 0 ]{} P(0 | x) P(1 | x)\n",
    "      = E_B (1 - E_B) \\geq \\frac{1}{2} E_B $"
   ]
  },
  {
   "cell_type": "markdown",
   "metadata": {},
   "source": [
    "Утверждение доказано."
   ]
  },
  {
   "cell_type": "markdown",
   "metadata": {},
   "source": [
    "# 6.4"
   ]
  },
  {
   "cell_type": "markdown",
   "metadata": {},
   "source": [
    "Пусть в листе находятся $k$ значений: $y_1, ..., y_k$, каждое выпадает с вероятностью $\\frac{1}{k}$, как указано в условии."
   ]
  },
  {
   "cell_type": "markdown",
   "metadata": {},
   "source": [
    "Тогда математическое ожидание при ответе средним значением\n",
    "$ E_{avg} = \\frac{1}{k} \\sum \\limits_{i=1}^k (y_i - \\bar{y})^2 $ ,\n",
    "где $ \\bar{y} = \\frac{1}{k} \\sum \\limits_{i=1}^k y_i $ ."
   ]
  },
  {
   "cell_type": "markdown",
   "metadata": {},
   "source": [
    "При ответе случайным значением, если $y_i$ - целевое значение, а $y_j$ - предсказанное значение, матожидание ошибки \n",
    "$ E_{rand} = \\frac{1}{k} \\sum \\limits_{i=1}^k \\frac{1}{k} \\sum \\limits_{j=1}^k (y_i - y_j)^2 $ ."
   ]
  },
  {
   "cell_type": "markdown",
   "metadata": {},
   "source": [
    "Давайте докажем, что $ (y_i - \\bar{y})^2 \\leq \\frac{1}{k} \\sum \\limits_{j=1}^k (y_i - y_j)^2 $\n",
    "для любого $y_i \\in \\{y_1, ..., y_k\\}$ .\n",
    "\n",
    "Из этого сразу будет следовать, что $ E_{avg} \\leq E_{rand} $, а значит выгоднее отвечать средним значением."
   ]
  },
  {
   "cell_type": "markdown",
   "metadata": {},
   "source": [
    "Перепишем неравенство $ (y_i - \\bar{y})^2 \\leq \\frac{1}{k} \\sum \\limits_{j=1}^k (y_i - y_j)^2 $ следующим образом:\n",
    "$ \\big( \\frac{1}{k} \\sum \\limits_{j=1}^k (y_i - y_j) \\big) ^2 \\leq \\frac{1}{k} \\sum \\limits_{j=1}^k (y_i - y_j)^2 $ .\n",
    "В таком виде очевидна идентичность данного неравенства неравенству Йенсена: $ f(E(X)) \\leq E(f(X)) $,\n",
    "где $ X = \\big\\{ X_j = (y_i - y_j) \\big\\} $, а $f(x) = x^2$ - выпуклая функция. Значит, неравенство тождественно верно."
   ]
  },
  {
   "cell_type": "markdown",
   "metadata": {},
   "source": [
    "Задача решена, выгоднее отвечать средним значением."
   ]
  },
  {
   "cell_type": "markdown",
   "metadata": {},
   "source": [
    "# 6.5"
   ]
  },
  {
   "cell_type": "markdown",
   "metadata": {},
   "source": [
    "При построении дерева по MSE/MAE критерию, наилучшим разбиением является то, которое минимизирует неоднородность таргета $y$ в дочерних нодах, а на распределение $X$ в дочерних нодах она не смотрит. Следовательно в листья попадают наборы со следующими характеристиками: близкие значения $y$ и (возможно) далеко отстоящие значения $X$. Очевидно, что на таких наборах линейная регрессия или не нужна, или не даст хороших результатов."
   ]
  },
  {
   "cell_type": "markdown",
   "metadata": {},
   "source": [
    "Чтобы получить пользу от линейной регрессии, надо сделать так, чтобы в листья попадали объекты, у которых признаки близки в пространстве признаков. При таком разбиении, в листьях будут находиться объекты из маленькой окрестности, и, следовательно, линейная регрессия даст нам линеаризацию $y$ в этой окрестности (это будет хорошо работать, если $y$ есть дифференцируемая (а значит и линеаризуемая) функция от $X$)."
   ]
  },
  {
   "cell_type": "markdown",
   "metadata": {},
   "source": [
    "Добиться этого несложно, достаточно в критерии разбиения:\n",
    "$ G(i, t) = \\frac{|L|}{|Q|} H(L) + \\frac{|R|}{|Q|} H(R) $ заменить\n",
    "$ H(S) = \\frac{1}{|S|} \\sum \\limits_{i} (y_i - \\bar{y})^2 $ на некоторую функцию близости признаков."
   ]
  },
  {
   "cell_type": "markdown",
   "metadata": {},
   "source": [
    "Если признаки являются векторами $ (x^j) = (x^{1}, ..., x^{m} ) $,\n",
    "то старую функцию $ H(S) $ можно заменить на следующую функцию:\n",
    "$$ HX(S) = \\frac{1}{m} \\sum \\limits_{j=1}^m \\frac{1}{|S|} \\sum \\limits_{i} (x_i^j - \\bar{x^j})^2 $$ ."
   ]
  },
  {
   "cell_type": "markdown",
   "metadata": {},
   "source": [
    "Далее приведен пример с улучшением точности (ошибка MSE cнизилась в 50 раз) дерева решений в результате применения вышеназванного критерия разбиения, который распределяет объекты по листам на основе близости их признаков."
   ]
  },
  {
   "cell_type": "code",
   "execution_count": 1,
   "metadata": {
    "collapsed": true
   },
   "outputs": [],
   "source": [
    "import random\n",
    "import warnings\n",
    "import numpy as np\n",
    "import pandas as pd\n",
    "from sklearn.linear_model import LinearRegression\n",
    "from sklearn.metrics import mean_squared_error, mean_absolute_error\n",
    "import matplotlib.pyplot as plt"
   ]
  },
  {
   "cell_type": "code",
   "execution_count": 2,
   "metadata": {
    "collapsed": true
   },
   "outputs": [],
   "source": [
    "%matplotlib inline"
   ]
  },
  {
   "cell_type": "code",
   "execution_count": 3,
   "metadata": {
    "collapsed": true
   },
   "outputs": [],
   "source": [
    "# mse split criterion\n",
    "# each index can produce only 10 possible bounds => split complexity ~ (1 + log)(X.shape[0]) * X.shape[1] * 10\n",
    "class DecisionTree(object):\n",
    "    def __init__(self, error_function, leaf_predictor_class, max_depth=100):\n",
    "        self.error_function = error_function\n",
    "        self.leaf_predictor_class = leaf_predictor_class\n",
    "        self.max_depth = max_depth\n",
    "    \n",
    "    def fit(self, X, y):\n",
    "        self.root = self.Node(self, X, y)\n",
    "    \n",
    "    def predict(self, X):\n",
    "        return np.asarray(list(self.root.predict(x) for x in X))\n",
    "    \n",
    "    class Node(object):\n",
    "        def __init__(self, dt, X, y, depth=0):\n",
    "            self.is_leaf = (depth >= dt.max_depth) or (X.shape[0] == 1)\n",
    "            if self.is_leaf:\n",
    "                self.y = dt.leaf_predictor_class()\n",
    "                self.y.fit(X, y)\n",
    "            else:\n",
    "                self.ind = None\n",
    "                self.bound = None\n",
    "                self.error = None\n",
    "                for ind, bounds in self.__compute_inds_and_bounds(X, y):\n",
    "                    for bound in bounds:\n",
    "                        cur_error = dt.error_function(X, y, ind, bound)\n",
    "                        if (self.error is None) or (cur_error < self.error):\n",
    "                            self.ind = ind\n",
    "                            self.bound = bound\n",
    "                            self.error = cur_error\n",
    "                if self.error is None:\n",
    "                    self.is_leaf = True\n",
    "                    self.y = dt.leaf_predictor_class()\n",
    "                    self.y.fit(X, y)\n",
    "                else:\n",
    "                    X_left, y_left, X_right, y_right = self.__split_by_ind_and_bound(X, y, self.ind, self.bound)\n",
    "                    self.left  = dt.Node(dt, X_left , y_left , depth + 1)\n",
    "                    self.right = dt.Node(dt, X_right, y_right, depth + 1)\n",
    "                \n",
    "        def predict(self, x):\n",
    "            if self.is_leaf:\n",
    "                return self.y.predict(x)\n",
    "            else:\n",
    "                child = self.left if x[self.ind] <= self.bound else self.right\n",
    "                return child.predict(x)\n",
    "        \n",
    "        def __compute_inds_and_bounds(self, X, y):\n",
    "            for ind in range(X.shape[1]):\n",
    "                levels = np.unique(X[:, ind])\n",
    "                step = max(1, levels.shape[0] // 10)\n",
    "                yield ind, levels[:-1:step]\n",
    "        \n",
    "        def __split_by_ind_and_bound(self, X, y, ind, bound):\n",
    "            left_inds = X[:, ind] <= bound\n",
    "            right_inds = np.logical_not(left_inds)\n",
    "            return X[left_inds], y[left_inds], X[right_inds], y[right_inds]\n"
   ]
  },
  {
   "cell_type": "code",
   "execution_count": 4,
   "metadata": {
    "collapsed": true
   },
   "outputs": [],
   "source": [
    "def error_function_group_by_y(X, y, ind, bound):\n",
    "    inds = X[:, ind] <= bound\n",
    "    left_y  = y[inds]\n",
    "    right_y = y[np.logical_not(inds)]\n",
    "    return left_y.shape[0] * np.var(left_y) + right_y.shape[0] * np.var(right_y)"
   ]
  },
  {
   "cell_type": "code",
   "execution_count": 5,
   "metadata": {
    "collapsed": true
   },
   "outputs": [],
   "source": [
    "def error_function_group_by_x(X, y, ind, bound):\n",
    "    inds = X[:, ind] <= bound\n",
    "    left_X  = X[inds]\n",
    "    right_X = X[np.logical_not(inds)]\n",
    "    return left_X.shape[0] * np.mean(np.var(left_X, axis=0)) + right_X.shape[0] * np.mean(np.var(right_X, axis=0))"
   ]
  },
  {
   "cell_type": "code",
   "execution_count": 6,
   "metadata": {
    "collapsed": true
   },
   "outputs": [],
   "source": [
    "class MeanPredictor(object):\n",
    "    def fit(self, X, y):\n",
    "        self.y = np.mean(y)\n",
    "    \n",
    "    def predict(self, x):\n",
    "        return self.y"
   ]
  },
  {
   "cell_type": "code",
   "execution_count": 7,
   "metadata": {
    "collapsed": true
   },
   "outputs": [],
   "source": [
    "class RandomPredictor(object):\n",
    "    def fit(self, X, y):\n",
    "        self.y = list(y)\n",
    "    \n",
    "    def predict(self, x):\n",
    "        return random.choice(y)"
   ]
  },
  {
   "cell_type": "markdown",
   "metadata": {
    "collapsed": true
   },
   "source": [
    "### Generate data"
   ]
  },
  {
   "cell_type": "code",
   "execution_count": 8,
   "metadata": {
    "collapsed": true
   },
   "outputs": [],
   "source": [
    "size = 100"
   ]
  },
  {
   "cell_type": "code",
   "execution_count": 9,
   "metadata": {
    "collapsed": true
   },
   "outputs": [],
   "source": [
    "X = np.linspace(-3, 3, size).reshape(size, 1)\n",
    "y = np.sin(X).reshape(size,)"
   ]
  },
  {
   "cell_type": "code",
   "execution_count": 10,
   "metadata": {
    "collapsed": true
   },
   "outputs": [],
   "source": [
    "inds = np.asarray(list(range(size)))\n",
    "train_inds = inds % 2 == 0\n",
    "test_inds = inds % 2 == 1\n",
    "X_train, y_train = X[train_inds], y[train_inds]\n",
    "X_test , y_test  = X[test_inds ], y[test_inds ]"
   ]
  },
  {
   "cell_type": "code",
   "execution_count": 11,
   "metadata": {},
   "outputs": [
    {
     "data": {
      "image/png": "[encoded data removed]",
      "text/plain": [
       "<matplotlib.figure.Figure at 0xaf82470>"
      ]
     },
     "metadata": {},
     "output_type": "display_data"
    }
   ],
   "source": [
    "plt.plot(X_train, y_train, 'x')\n",
    "plt.plot(X_test , y_test , '.')\n",
    "plt.legend(['train', 'test'])\n",
    "plt.show()"
   ]
  },
  {
   "cell_type": "markdown",
   "metadata": {
    "collapsed": true
   },
   "source": [
    "### results"
   ]
  },
  {
   "cell_type": "code",
   "execution_count": 12,
   "metadata": {},
   "outputs": [
    {
     "data": {
      "text/html": [
       "<div>\n",
       "<table border=\"1\" class=\"dataframe\">\n",
       "  <thead>\n",
       "    <tr style=\"text-align: right;\">\n",
       "      <th></th>\n",
       "      <th>error_function</th>\n",
       "      <th>leaf_predictor</th>\n",
       "      <th>mse_test_err</th>\n",
       "      <th>mae_test_err</th>\n",
       "      <th>mse_train_err</th>\n",
       "      <th>mae_train_err</th>\n",
       "    </tr>\n",
       "  </thead>\n",
       "  <tbody>\n",
       "    <tr>\n",
       "      <th>0</th>\n",
       "      <td>error_function_group_by_y</td>\n",
       "      <td>MeanPredictor</td>\n",
       "      <td>0.019639</td>\n",
       "      <td>0.116326</td>\n",
       "      <td>0.018369</td>\n",
       "      <td>0.113242</td>\n",
       "    </tr>\n",
       "    <tr>\n",
       "      <th>1</th>\n",
       "      <td>error_function_group_by_y</td>\n",
       "      <td>RandomPredictor</td>\n",
       "      <td>0.966171</td>\n",
       "      <td>0.942449</td>\n",
       "      <td>1.096272</td>\n",
       "      <td>0.898735</td>\n",
       "    </tr>\n",
       "    <tr>\n",
       "      <th>2</th>\n",
       "      <td>error_function_group_by_y</td>\n",
       "      <td>LinearRegression</td>\n",
       "      <td>0.013179</td>\n",
       "      <td>0.082053</td>\n",
       "      <td>0.012512</td>\n",
       "      <td>0.079051</td>\n",
       "    </tr>\n",
       "    <tr>\n",
       "      <th>3</th>\n",
       "      <td>error_function_group_by_x</td>\n",
       "      <td>MeanPredictor</td>\n",
       "      <td>0.022827</td>\n",
       "      <td>0.120253</td>\n",
       "      <td>0.021361</td>\n",
       "      <td>0.117521</td>\n",
       "    </tr>\n",
       "    <tr>\n",
       "      <th>4</th>\n",
       "      <td>error_function_group_by_x</td>\n",
       "      <td>RandomPredictor</td>\n",
       "      <td>1.198047</td>\n",
       "      <td>0.922211</td>\n",
       "      <td>1.211994</td>\n",
       "      <td>0.725536</td>\n",
       "    </tr>\n",
       "    <tr>\n",
       "      <th>5</th>\n",
       "      <td>error_function_group_by_x</td>\n",
       "      <td>LinearRegression</td>\n",
       "      <td>0.000352</td>\n",
       "      <td>0.014123</td>\n",
       "      <td>0.000252</td>\n",
       "      <td>0.012260</td>\n",
       "    </tr>\n",
       "  </tbody>\n",
       "</table>\n",
       "</div>"
      ],
      "text/plain": [
       "              error_function    leaf_predictor  mse_test_err  mae_test_err  \\\n",
       "0  error_function_group_by_y     MeanPredictor      0.019639      0.116326   \n",
       "1  error_function_group_by_y   RandomPredictor      0.966171      0.942449   \n",
       "2  error_function_group_by_y  LinearRegression      0.013179      0.082053   \n",
       "3  error_function_group_by_x     MeanPredictor      0.022827      0.120253   \n",
       "4  error_function_group_by_x   RandomPredictor      1.198047      0.922211   \n",
       "5  error_function_group_by_x  LinearRegression      0.000352      0.014123   \n",
       "\n",
       "   mse_train_err  mae_train_err  \n",
       "0       0.018369       0.113242  \n",
       "1       1.096272       0.898735  \n",
       "2       0.012512       0.079051  \n",
       "3       0.021361       0.117521  \n",
       "4       1.211994       0.725536  \n",
       "5       0.000252       0.012260  "
      ]
     },
     "execution_count": 12,
     "metadata": {},
     "output_type": "execute_result"
    }
   ],
   "source": [
    "out = []\n",
    "\n",
    "warnings.filterwarnings('ignore')\n",
    "for error_function in [error_function_group_by_y, error_function_group_by_x]:\n",
    "    for leaf_predictor in [MeanPredictor, RandomPredictor, LinearRegression]:\n",
    "        est = DecisionTree(error_function, leaf_predictor, max_depth=3)\n",
    "        est.fit(X_train, y_train)\n",
    "        mse_test  = mean_squared_error (y_test , est.predict(X_test ))\n",
    "        mae_test  = mean_absolute_error(y_test , est.predict(X_test ))\n",
    "        mse_train = mean_squared_error (y_train, est.predict(X_train))\n",
    "        mae_train = mean_absolute_error(y_train, est.predict(X_train))\n",
    "        out.append([error_function.__name__, leaf_predictor.__name__, mse_test, mae_test, mse_train, mae_train])\n",
    "        \n",
    "pd.DataFrame(out, columns=['error_function', 'leaf_predictor', 'mse_test_err', 'mae_test_err', 'mse_train_err', 'mae_train_err'])"
   ]
  },
  {
   "cell_type": "markdown",
   "metadata": {},
   "source": [
    "При таком разбиении, что близкие по признакам объекты попадают в один лист\n",
    "ошибка от применения регрессии в листе уменьшилась в 50(!) раз по MSE и в 7 раз по MAE."
   ]
  },
  {
   "cell_type": "markdown",
   "metadata": {},
   "source": [
    "### Plot split bounds from tree nodes ( $node[x[ind] \\leq bound] \\to left, else \\to right$ )"
   ]
  },
  {
   "cell_type": "code",
   "execution_count": 13,
   "metadata": {
    "collapsed": true
   },
   "outputs": [],
   "source": [
    "def plot_bounds(est, X_train, y_train):\n",
    "    def collect_bounds(node):\n",
    "        return [] if node.is_leaf else collect_bounds(node.left) + [node.bound] + collect_bounds(node.right)\n",
    "    \n",
    "    plt.plot(np.linspace(-3.14, 3.14, 100), np.sin(np.linspace(-3.14, 3.14, 100)))\n",
    "    est.fit(X_train, y_train)\n",
    "    x = collect_bounds(est.root)\n",
    "    y = np.sin(x)\n",
    "    plt.plot(x, y, 'xr')"
   ]
  },
  {
   "cell_type": "code",
   "execution_count": 14,
   "metadata": {},
   "outputs": [
    {
     "data": {
      "image/png": "[encoded data removed]",
      "text/plain": [
       "<matplotlib.figure.Figure at 0xb3cecc0>"
      ]
     },
     "metadata": {},
     "output_type": "display_data"
    }
   ],
   "source": [
    "plot_bounds(DecisionTree(error_function_group_by_y, MeanPredictor, max_depth=3), X_train, y_train)"
   ]
  },
  {
   "cell_type": "code",
   "execution_count": 15,
   "metadata": {},
   "outputs": [
    {
     "data": {
      "image/png": "[encoded data removed]",
      "text/plain": [
       "<matplotlib.figure.Figure at 0xb44cb38>"
      ]
     },
     "metadata": {},
     "output_type": "display_data"
    }
   ],
   "source": [
    "plot_bounds(DecisionTree(error_function_group_by_x, MeanPredictor, max_depth=3), X_train, y_train)"
   ]
  },
  {
   "cell_type": "code",
   "execution_count": null,
   "metadata": {
    "collapsed": true
   },
   "outputs": [],
   "source": []
  },
  {
   "cell_type": "code",
   "execution_count": null,
   "metadata": {
    "collapsed": true
   },
   "outputs": [],
   "source": []
  }
 ],
 "metadata": {
  "kernelspec": {
   "display_name": "Python 3",
   "language": "python",
   "name": "python3"
  },
  "language_info": {
   "codemirror_mode": {
    "name": "ipython",
    "version": 3
   },
   "file_extension": ".py",
   "mimetype": "text/x-python",
   "name": "python",
   "nbconvert_exporter": "python",
   "pygments_lexer": "ipython3",
   "version": "3.6.0"
  }
 },
 "nbformat": 4,
 "nbformat_minor": 2
}
